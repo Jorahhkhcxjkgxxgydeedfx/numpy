{
 "cells": [
  {
   "cell_type": "code",
   "execution_count": 1,
   "id": "b7e49cfd-ca37-4911-86aa-6dfc5b81b57e",
   "metadata": {},
   "outputs": [
    {
     "name": "stdout",
     "output_type": "stream",
     "text": [
      "Requirement already satisfied: numpy in c:\\users\\walton\\anaconda3\\lib\\site-packages (1.26.4)\n"
     ]
    }
   ],
   "source": [
    "!pip install numpy"
   ]
  },
  {
   "cell_type": "code",
   "execution_count": 3,
   "id": "a5fe8d50-0ecc-4e51-834e-726ad96db4a6",
   "metadata": {},
   "outputs": [],
   "source": [
    "import numpy as np"
   ]
  },
  {
   "cell_type": "code",
   "execution_count": 24,
   "id": "6498f258-470e-4804-86ba-578b77d950ad",
   "metadata": {},
   "outputs": [
    {
     "name": "stdout",
     "output_type": "stream",
     "text": [
      "[122  77  88  90]\n"
     ]
    }
   ],
   "source": [
    "#creating array\n",
    "a = np.array([122,77,88,90])\n",
    "print(a)"
   ]
  },
  {
   "cell_type": "code",
   "execution_count": 13,
   "id": "1a73663e-f289-4409-8c27-c7e06c328b2e",
   "metadata": {},
   "outputs": [
    {
     "name": "stdout",
     "output_type": "stream",
     "text": [
      "[[12 22  7  8]\n",
      " [78 99  7 88]]\n"
     ]
    }
   ],
   "source": [
    "b = np.array([[12,22,7, 8],[78,99,7,88]])\n",
    "print(b)"
   ]
  },
  {
   "cell_type": "code",
   "execution_count": 33,
   "id": "14c17f9c-b954-46d0-9d8c-b1b57d6802b3",
   "metadata": {},
   "outputs": [
    {
     "name": "stdout",
     "output_type": "stream",
     "text": [
      "[[[ 12.   22.8  34. ]\n",
      "  [  5.    9.8   8. ]\n",
      "  [ 89.  900.    9. ]]]\n"
     ]
    }
   ],
   "source": [
    "n = np.array([[[12,22.8,34],[5,9.8,8],[89,900,9]]])\n",
    "print(n)"
   ]
  },
  {
   "cell_type": "code",
   "execution_count": 35,
   "id": "11ce57d0-71a7-4bc0-aa5d-cf324a0137f7",
   "metadata": {},
   "outputs": [
    {
     "name": "stdout",
     "output_type": "stream",
     "text": [
      "(2, 4)\n",
      "3\n",
      "4\n",
      "float64\n"
     ]
    }
   ],
   "source": [
    "#array properties findout\n",
    "print(b.shape)\n",
    "print(n.ndim)\n",
    "print(a.size)\n",
    "print (n.dtype)"
   ]
  },
  {
   "cell_type": "code",
   "execution_count": 57,
   "id": "9dda50b7-4e60-4c9e-8464-f649573a5629",
   "metadata": {},
   "outputs": [
    {
     "name": "stdout",
     "output_type": "stream",
     "text": [
      "[[0 1 2]\n",
      " [3 4 5]\n",
      " [6 7 8]]\n"
     ]
    }
   ],
   "source": [
    "#reshape the aarray 1d to 2d\n",
    "arr= np.arange(0,9) #creates an array 7,8,9,...,9\n",
    "# reshape it converts 1d arrya to a matrix\n",
    "n = arr.reshape(3,3) #CRETAES 3 ROWS AND 4  COLUMNS\n",
    "print(n)"
   ]
  },
  {
   "cell_type": "code",
   "execution_count": 71,
   "id": "ec11c656-aad8-4329-b381-76956bfbcd1f",
   "metadata": {},
   "outputs": [
    {
     "name": "stdout",
     "output_type": "stream",
     "text": [
      "[12 22  7  8 78 99  7 88]\n"
     ]
    }
   ],
   "source": [
    "# flattened it converts matrix to 1d array\n",
    "f = b.flatten()\n",
    "print(f)"
   ]
  },
  {
   "cell_type": "code",
   "execution_count": 83,
   "id": "86e1ca67-b544-4d08-bf8a-2f16aaf13151",
   "metadata": {},
   "outputs": [
    {
     "name": "stdout",
     "output_type": "stream",
     "text": [
      "[[23  7  8]\n",
      " [99  9  9]\n",
      " [33  9  9]]\n",
      "[23  7  8]\n",
      "[7 9 9]\n"
     ]
    }
   ],
   "source": [
    "# slicing and indexing \n",
    "bb = np.array([[23,7,8],[99,9,9],[33,9,9]])\n",
    "print(bb)\n",
    "print(bb[0,:]) # prints the row # 1st row \n",
    "\n",
    "print(bb[:,1]) # prints the column\n"
   ]
  },
  {
   "cell_type": "code",
   "execution_count": 85,
   "id": "335133fb-b891-4e6e-a210-d8dc7f692c79",
   "metadata": {},
   "outputs": [
    {
     "name": "stdout",
     "output_type": "stream",
     "text": [
      "[[11 12 13]\n",
      " [14 15 16]]\n"
     ]
    }
   ],
   "source": [
    " arr = np.array([[1, 2, 3], [4, 5, 6]])\n",
    "scalar = 10\n",
    "print(arr + scalar)  # Adds 10 to each element\n",
    " "
   ]
  },
  {
   "cell_type": "code",
   "execution_count": 9,
   "id": "658f955e-b718-42ea-8ee7-1ccebc392944",
   "metadata": {},
   "outputs": [
    {
     "name": "stdout",
     "output_type": "stream",
     "text": [
      "[0.17158807 0.3872073  0.94131192 0.96025321 0.44712547 0.73419953\n",
      " 0.74508475 0.65444188]\n",
      "0.8705488478373699\n"
     ]
    }
   ],
   "source": [
    "import numpy as np\n",
    "x = np.random.rand() # picks a random float number\n",
    "\n",
    "o = np.random.rand(8)\n",
    "print(o)\n",
    "print(x)"
   ]
  },
  {
   "cell_type": "code",
   "execution_count": 11,
   "id": "79bc1527-7561-44b7-a26b-63d6b27adec2",
   "metadata": {},
   "outputs": [
    {
     "name": "stdout",
     "output_type": "stream",
     "text": [
      "2\n"
     ]
    }
   ],
   "source": [
    "i = np.random.randint(1,8)\n",
    "print(i)"
   ]
  },
  {
   "cell_type": "code",
   "execution_count": 66,
   "id": "a9c3978a-fee1-4b59-b8c9-157235bf44ac",
   "metadata": {},
   "outputs": [
    {
     "name": "stdout",
     "output_type": "stream",
     "text": [
      "[[3 5 2]\n",
      " [3 1 6]\n",
      " [6 1 3]]\n",
      "[[ 4  8  4  4]\n",
      " [ 7 14  5  2]\n",
      " [15  8  5  1]]\n"
     ]
    }
   ],
   "source": [
    "#making a array from random integers \n",
    "\n",
    "u = np.random.randint(1,19, size=(3,4))\n",
    "print(np.random.randint(1,8, (3,3)))\n",
    "print(u)"
   ]
  },
  {
   "cell_type": "code",
   "execution_count": 60,
   "id": "b100df32-94f5-4e21-9519-bcd1777470ad",
   "metadata": {},
   "outputs": [
    {
     "name": "stdout",
     "output_type": "stream",
     "text": [
      "[[7 8 9 0]\n",
      " [1 2 5 8]]\n"
     ]
    }
   ],
   "source": [
    "ii = np.array([[1,2,5,8],[7,8,9,0]])\n",
    "np.random.shuffle(ii)\n",
    "print(ii)\n",
    "#shuffling a array randomly\n"
   ]
  },
  {
   "cell_type": "code",
   "execution_count": 26,
   "id": "1afa7c99-0abe-4feb-85ff-f7b00e258a7b",
   "metadata": {},
   "outputs": [
    {
     "name": "stdout",
     "output_type": "stream",
     "text": [
      "90\n"
     ]
    }
   ],
   "source": [
    "#random choice from the array only workes for one dimensional array\n",
    "c = np.random.choice(a)\n",
    "print(c)\n"
   ]
  },
  {
   "cell_type": "code",
   "execution_count": 49,
   "id": "ec0a5ece-7746-4eed-aa03-a4466ce2a94b",
   "metadata": {},
   "outputs": [
    {
     "name": "stdout",
     "output_type": "stream",
     "text": [
      "[0.83484215 0.1047961  0.74464048 0.36050084 0.35931084]\n"
     ]
    }
   ],
   "source": [
    "np.random.seed(44) # to get a fixed number with a seed but the number will change \n",
    "#as you change the seed number\n",
    "print(np.random.rand(5))"
   ]
  },
  {
   "cell_type": "code",
   "execution_count": null,
   "id": "b2c5f64f-101f-4c10-babd-0bef62811980",
   "metadata": {},
   "outputs": [],
   "source": [
    "d(22)\n",
    "x= np.random."
   ]
  },
  {
   "cell_type": "code",
   "execution_count": 44,
   "id": "dc4e0641-6f92-4a2c-8034-d69cccae93bc",
   "metadata": {},
   "outputs": [
    {
     "name": "stdout",
     "output_type": "stream",
     "text": [
      "[10  9  9  9  9 11]\n"
     ]
    }
   ],
   "source": [
    "np.random.seed(22)\n",
    "x= np.random.randint(9,12,size=6)\n",
    "print(x)"
   ]
  },
  {
   "cell_type": "code",
   "execution_count": 3,
   "id": "cc00991d-e886-42bb-b5ec-d035fcfb23cc",
   "metadata": {},
   "outputs": [
    {
     "name": "stdout",
     "output_type": "stream",
     "text": [
      "[52 41 38 17 41 48 76 88 76 27]\n"
     ]
    }
   ],
   "source": [
    "# cretae  a data set in radom numbers in numpy\n",
    "import numpy as np\n",
    "dataset = np.random.randint(0,100,size=(10,),dtype= np.int32)\n",
    "print(dataset)"
   ]
  },
  {
   "cell_type": "code",
   "execution_count": 15,
   "id": "8aacfc9e-edf7-4998-82ae-e1fdebac8942",
   "metadata": {},
   "outputs": [
    {
     "name": "stdout",
     "output_type": "stream",
     "text": [
      "Features (x): [12 50 66  5 89]\n"
     ]
    }
   ],
   "source": [
    "# create a simple linear regression dataset ( x and y)\n",
    "\n",
    "x = np.array ([12,23, 26,89, 90,89])\n",
    "y=np.array ([12,50,66,5,89])\n",
    "\n",
    "print('Features (x):',y) "
   ]
  },
  {
   "cell_type": "code",
   "execution_count": 21,
   "id": "810f159c-aac8-4bbe-b747-f149857def79",
   "metadata": {},
   "outputs": [
    {
     "name": "stdout",
     "output_type": "stream",
     "text": [
      "25.25\n",
      "[[12.    2.   25.25]\n",
      " [25.25 78.    9.  ]]\n"
     ]
    }
   ],
   "source": [
    "# handeling missing values \n",
    "\n",
    "dataset = np.array([[12,2,np.nan ,],[np.nan, 78,9,]])\n",
    "\n",
    "mean = np.nanmean(dataset) # here nanmean means mean without the missing values\n",
    "print (mean)\n",
    "\n",
    "# fills missing values with mean\n",
    "dataset[np.isnan(dataset)]= mean\n",
    "print(dataset)\n"
   ]
  },
  {
   "cell_type": "code",
   "execution_count": 23,
   "id": "f9e45e6a-5ba8-4f08-b639-02264ca5791f",
   "metadata": {},
   "outputs": [],
   "source": [
    "#machine learning concepts with numpy\n",
    "# how to build each concept from scratch\n",
    "# models i am going to cover\n",
    "# simple linear regression\n",
    "# KNN\n",
    "#logistic regression\n",
    "# descision tree\n",
    "# principal Compotent analysis\n",
    "#descision trees\n",
    "# naive byes classifier\n"
   ]
  },
  {
   "cell_type": "code",
   "execution_count": 25,
   "id": "34692f8b-9f39-4064-ab0a-4ed0e7ffc9eb",
   "metadata": {},
   "outputs": [
    {
     "name": "stdout",
     "output_type": "stream",
     "text": [
      "Trained Model: y = 2.45x + 0.22\n"
     ]
    }
   ],
   "source": [
    "#simple linear regression in numpy\n",
    "\n",
    "#frist create a data set\n",
    "\n",
    "# Generate random data for X (100 samples)\n",
    "np.random.seed(42)\n",
    "X = np.random.rand(100, 1) * 10  # Features\n",
    "y = 2.5 * X + np.random.randn(100, 1)  # True relationship with noise\n",
    "\n",
    "# Initialize weights and bias\n",
    "m = 0  # slope\n",
    "c = 0  # intercept\n",
    "learning_rate = 0.01\n",
    "epochs = 1000\n",
    "n = len(X)  # number of samples\n",
    "\n",
    "# Gradient Descent\n",
    "for _ in range(epochs):\n",
    "    y_pred = m * X + c\n",
    "    error = y_pred - y\n",
    "\n",
    "    # Partial derivatives (Gradients)\n",
    "    dm = (2/n) * np.sum(X * error)\n",
    "    dc = (2/n) * np.sum(error)\n",
    "\n",
    "    # Update parameters\n",
    "    m -= learning_rate * dm\n",
    "    c -= learning_rate * dc\n",
    "\n",
    "print(f\"Trained Model: y = {m:.2f}x + {c:.2f}\")\n",
    "\n"
   ]
  },
  {
   "cell_type": "code",
   "execution_count": 27,
   "id": "8ea6250b-7df2-448a-bf3a-6229bca7449f",
   "metadata": {},
   "outputs": [
    {
     "name": "stdout",
     "output_type": "stream",
     "text": [
      "MSE: 0.1700\n"
     ]
    }
   ],
   "source": [
    "# mean squred error (mse( for regression to predict the qaccuracy\n",
    "def mse(y_true, y_pred):\n",
    "    return np.mean((y_true - y_pred) ** 2)\n",
    "\n",
    "# Example\n",
    "y_true = np.array([3, 5, 7])\n",
    "y_pred = np.array([2.5, 5.5, 7.1])\n",
    "\n",
    "print(f\"MSE: {mse(y_true, y_pred):.4f}\")\n"
   ]
  },
  {
   "cell_type": "code",
   "execution_count": 29,
   "id": "b823ffc4-3d19-4c01-9ba6-8c11ca944a07",
   "metadata": {},
   "outputs": [
    {
     "name": "stdout",
     "output_type": "stream",
     "text": [
      "Predictions: [0 0 1 1]\n"
     ]
    }
   ],
   "source": [
    "# logistic regression for binary classification\n",
    "\n",
    "# Sigmoid Function\n",
    "def sigmoid(z):\n",
    "    return 1 / (1 + np.exp(-z))\n",
    "\n",
    "# Loss Function: Binary Cross-Entropy\n",
    "def binary_cross_entropy(y_true, y_pred):\n",
    "    return -np.mean(y_true * np.log(y_pred) + (1 - y_true) * np.log(1 - y_pred))\n",
    "\n",
    "# Logistic Regression Model\n",
    "class LogisticRegression:\n",
    "    def __init__(self, learning_rate=0.01, epochs=1000):\n",
    "        self.lr = learning_rate\n",
    "        self.epochs = epochs\n",
    "\n",
    "    def fit(self, X, y):\n",
    "        self.m, self.n = X.shape\n",
    "        self.weights = np.zeros(self.n)\n",
    "        self.bias = 0\n",
    "\n",
    "        for _ in range(self.epochs):\n",
    "            linear_model = np.dot(X, self.weights) + self.bias\n",
    "            y_pred = sigmoid(linear_model)\n",
    "\n",
    "            # Gradients\n",
    "            dw = (1 / self.m) * np.dot(X.T, (y_pred - y))\n",
    "            db = (1 / self.m) * np.sum(y_pred - y)\n",
    "\n",
    "            # Update weights\n",
    "            self.weights -= self.lr * dw\n",
    "            self.bias -= self.lr * db\n",
    "\n",
    "    def predict(self, X):\n",
    "        linear_model = np.dot(X, self.weights) + self.bias\n",
    "        y_pred = sigmoid(linear_model)\n",
    "        return np.where(y_pred >= 0.5, 1, 0)\n",
    "\n",
    "# Example Dataset\n",
    "X = np.array([[0.5, 1.2], [1.0, 2.5], [1.5, 3.0], [3.0, 3.5]])\n",
    "y = np.array([0, 0, 1, 1])\n",
    "\n",
    "# Train the Model\n",
    "model = LogisticRegression(learning_rate=0.1, epochs=1000)\n",
    "model.fit(X, y)\n",
    "\n",
    "# Predict\n",
    "predictions = model.predict(X)\n",
    "print(\"Predictions:\", predictions)\n"
   ]
  },
  {
   "cell_type": "code",
   "execution_count": 31,
   "id": "071550c7-348f-4848-a81b-c1d350ee5d40",
   "metadata": {},
   "outputs": [
    {
     "name": "stdout",
     "output_type": "stream",
     "text": [
      "SVM Predictions: [ 1. -1.  1. -1.]\n"
     ]
    }
   ],
   "source": [
    "# support vector machine SVM\n",
    "class SVM:\n",
    "    def __init__(self, learning_rate=0.001, lambda_param=0.01, epochs=1000):\n",
    "        self.lr = learning_rate\n",
    "        self.lambda_param = lambda_param\n",
    "        self.epochs = epochs\n",
    "\n",
    "    def fit(self, X, y):\n",
    "        y = np.where(y <= 0, -1, 1)  # Convert labels to -1 or 1\n",
    "        self.weights = np.zeros(X.shape[1])\n",
    "        self.bias = 0\n",
    "\n",
    "        for _ in range(self.epochs):\n",
    "            for idx, x_i in enumerate(X):\n",
    "                condition = y[idx] * (np.dot(x_i, self.weights) - self.bias) >= 1\n",
    "                if condition:\n",
    "                    self.weights -= self.lr * (2 * self.lambda_param * self.weights)\n",
    "                else:\n",
    "                    self.weights -= self.lr * (2 * self.lambda_param * self.weights - np.dot(x_i, y[idx]))\n",
    "                    self.bias -= self.lr * y[idx]\n",
    "\n",
    "    def predict(self, X):\n",
    "        linear_output = np.dot(X, self.weights) - self.bias\n",
    "        return np.sign(linear_output)\n",
    "\n",
    "# Example Dataset\n",
    "X = np.array([[2, 3], [1, 1], [4, 5], [6, 5]])\n",
    "y = np.array([1, -1, 1, -1])\n",
    "\n",
    "# Train SVM Model\n",
    "svm = SVM()\n",
    "svm.fit(X, y)\n",
    "\n",
    "# Predict\n",
    "predictions = svm.predict(X)\n",
    "print(\"SVM Predictions:\", predictions)\n",
    "\n"
   ]
  },
  {
   "cell_type": "code",
   "execution_count": 33,
   "id": "e37af62b-091d-4b35-82dd-49a6f033feb0",
   "metadata": {},
   "outputs": [
    {
     "name": "stdout",
     "output_type": "stream",
     "text": [
      "Decision Tree Predictions: [0 0 1 1]\n"
     ]
    }
   ],
   "source": [
    "# descision tree gini and entropy \n",
    "class DecisionTree:\n",
    "    def __init__(self, depth=3):\n",
    "        self.depth = depth\n",
    "\n",
    "    def fit(self, X, y):\n",
    "        self.tree = self._grow_tree(X, y)\n",
    "\n",
    "    def _gini(self, y):\n",
    "        classes, counts = np.unique(y, return_counts=True)\n",
    "        probabilities = counts / len(y)\n",
    "        return 1 - np.sum(probabilities**2)\n",
    "\n",
    "    def _best_split(self, X, y):\n",
    "        best_gini = float('inf')\n",
    "        best_feature, best_threshold = None, None\n",
    "\n",
    "        for feature in range(X.shape[1]):\n",
    "            thresholds = np.unique(X[:, feature])\n",
    "            for threshold in thresholds:\n",
    "                left_indices = X[:, feature] <= threshold\n",
    "                right_indices = ~left_indices\n",
    "                if sum(left_indices) == 0 or sum(right_indices) == 0:\n",
    "                    continue\n",
    "\n",
    "                gini = (\n",
    "                    (sum(left_indices) / len(y)) * self._gini(y[left_indices]) +\n",
    "                    (sum(right_indices) / len(y)) * self._gini(y[right_indices])\n",
    "                )\n",
    "\n",
    "                if gini < best_gini:\n",
    "                    best_gini = gini\n",
    "                    best_feature = feature\n",
    "                    best_threshold = threshold\n",
    "\n",
    "        return best_feature, best_threshold\n",
    "\n",
    "    def _grow_tree(self, X, y, depth=0):\n",
    "        if depth == self.depth or len(np.unique(y)) == 1:\n",
    "            return np.argmax(np.bincount(y))\n",
    "\n",
    "        feature, threshold = self._best_split(X, y)\n",
    "        left_indices = X[:, feature] <= threshold\n",
    "        right_indices = ~left_indices\n",
    "\n",
    "        return {\n",
    "            'feature': feature,\n",
    "            'threshold': threshold,\n",
    "            'left': self._grow_tree(X[left_indices], y[left_indices], depth+1),\n",
    "            'right': self._grow_tree(X[right_indices], y[right_indices], depth+1)\n",
    "        }\n",
    "\n",
    "    def predict(self, X):\n",
    "        return np.array([self._predict(sample, self.tree) for sample in X])\n",
    "\n",
    "    def _predict(self, sample, tree):\n",
    "        if isinstance(tree, np.int64):\n",
    "            return tree\n",
    "        feature = tree['feature']\n",
    "        if sample[feature] <= tree['threshold']:\n",
    "            return self._predict(sample, tree['left'])\n",
    "        else:\n",
    "            return self._predict(sample, tree['right'])\n",
    "\n",
    "# Example Dataset\n",
    "X = np.array([[2, 3], [1, 1], [4, 5], [6, 5]])\n",
    "y = np.array([0, 0, 1, 1])\n",
    "\n",
    "# Train Decision Tree\n",
    "tree = DecisionTree(depth=2)\n",
    "tree.fit(X, y)\n",
    "\n",
    "# Predict\n",
    "predictions = tree.predict(X)\n",
    "print(\"Decision Tree Predictions:\", predictions)\n"
   ]
  },
  {
   "cell_type": "code",
   "execution_count": 35,
   "id": "ae97402f-ae7d-4356-96c9-44b2054afa30",
   "metadata": {},
   "outputs": [
    {
     "name": "stdout",
     "output_type": "stream",
     "text": [
      "PCA Reduced Data:\n",
      " [[ 2.49890378]\n",
      " [ 1.10543978]\n",
      " [-1.10543978]\n",
      " [-2.49890378]]\n"
     ]
    }
   ],
   "source": [
    "# PCA principle compotent analysis \n",
    "def pca(X, n_components=2):\n",
    "    # Standardize\n",
    "    X_meaned = X - np.mean(X, axis=0)\n",
    "\n",
    "    # Covariance matrix\n",
    "    cov_matrix = np.cov(X_meaned, rowvar=False)\n",
    "\n",
    "    # Eigen decomposition\n",
    "    eigenvalues, eigenvectors = np.linalg.eigh(cov_matrix)\n",
    "\n",
    "    # Sort eigenvectors by largest eigenvalues\n",
    "    sorted_indices = np.argsort(eigenvalues)[::-1]\n",
    "    eigenvectors = eigenvectors[:, sorted_indices]\n",
    "\n",
    "    # Select top components\n",
    "    components = eigenvectors[:, :n_components]\n",
    "\n",
    "    # Project data\n",
    "    return np.dot(X_meaned, components)\n",
    "\n",
    "# Example Dataset\n",
    "X = np.array([[2, 8], [3, 7], [5, 6], [6, 5]])\n",
    "\n",
    "# Perform PCA\n",
    "X_pca = pca(X, n_components=1)\n",
    "print(\"PCA Reduced Data:\\n\", X_pca)\n"
   ]
  },
  {
   "cell_type": "code",
   "execution_count": null,
   "id": "77998475-ac4b-46ef-9f13-500533311f64",
   "metadata": {},
   "outputs": [],
   "source": []
  }
 ],
 "metadata": {
  "kernelspec": {
   "display_name": "Python 3 (ipykernel)",
   "language": "python",
   "name": "python3"
  },
  "language_info": {
   "codemirror_mode": {
    "name": "ipython",
    "version": 3
   },
   "file_extension": ".py",
   "mimetype": "text/x-python",
   "name": "python",
   "nbconvert_exporter": "python",
   "pygments_lexer": "ipython3",
   "version": "3.12.7"
  }
 },
 "nbformat": 4,
 "nbformat_minor": 5
}
